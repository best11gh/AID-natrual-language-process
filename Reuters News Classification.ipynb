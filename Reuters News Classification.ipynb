{
 "cells": [
  {
   "cell_type": "code",
   "execution_count": 1,
   "id": "f18c4f9a",
   "metadata": {},
   "outputs": [],
   "source": [
    "import numpy as np\n",
    "import seaborn as sns\n",
    "import matplotlib.pyplot as plt\n",
    "from tensorflow.keras.datasets import reuters"
   ]
  },
  {
   "cell_type": "markdown",
   "id": "ed71401c",
   "metadata": {},
   "source": [
    "# 1. 데이터셋 불러오기"
   ]
  },
  {
   "cell_type": "code",
   "execution_count": 2,
   "id": "83064dc8",
   "metadata": {},
   "outputs": [
    {
     "name": "stdout",
     "output_type": "stream",
     "text": [
      "훈련용 뉴스 기사 : 8982\n",
      "테스트용 뉴스 기사 : 2246\n",
      "카테고리 : 46\n"
     ]
    }
   ],
   "source": [
    "# 토큰화와 정수 인코딩이 끝난 상태\n",
    "\n",
    "(X_train, y_train), (X_test, y_test) = reuters.load_data(num_words=None, test_split=0.2)\n",
    "\n",
    "print('훈련용 뉴스 기사 : {}'.format(len(X_train)))\n",
    "print('테스트용 뉴스 기사 : {}'.format(len(X_test)))\n",
    "num_classes = len(set(y_train))\n",
    "print('카테고리 : {}'.format(num_classes))"
   ]
  },
  {
   "cell_type": "code",
   "execution_count": 3,
   "id": "9da1c3b4",
   "metadata": {},
   "outputs": [
    {
     "name": "stdout",
     "output_type": "stream",
     "text": [
      "첫번째 훈련용 뉴스 기사 : [1, 27595, 28842, 8, 43, 10, 447, 5, 25, 207, 270, 5, 3095, 111, 16, 369, 186, 90, 67, 7, 89, 5, 19, 102, 6, 19, 124, 15, 90, 67, 84, 22, 482, 26, 7, 48, 4, 49, 8, 864, 39, 209, 154, 6, 151, 6, 83, 11, 15, 22, 155, 11, 15, 7, 48, 9, 4579, 1005, 504, 6, 258, 6, 272, 11, 15, 22, 134, 44, 11, 15, 16, 8, 197, 1245, 90, 67, 52, 29, 209, 30, 32, 132, 6, 109, 15, 17, 12]\n",
      "첫번째 훈련용 뉴스 기사의 레이블 : 3\n"
     ]
    }
   ],
   "source": [
    "print('첫번째 훈련용 뉴스 기사 :',X_train[0])\n",
    "print('첫번째 훈련용 뉴스 기사의 레이블 :',y_train[0])"
   ]
  },
  {
   "cell_type": "code",
   "execution_count": 4,
   "id": "d6bdd533",
   "metadata": {},
   "outputs": [
    {
     "name": "stdout",
     "output_type": "stream",
     "text": [
      "뉴스 기사의 최대 길이 :2376\n",
      "뉴스 기사의 평균 길이 :145.5398574927633\n"
     ]
    },
    {
     "data": {
      "image/png": "[encoded data removed]",
      "text/plain": [
       "<Figure size 640x480 with 1 Axes>"
      ]
     },
     "metadata": {},
     "output_type": "display_data"
    }
   ],
   "source": [
    "# 뉴스 기사 길이\n",
    "\n",
    "print('뉴스 기사의 최대 길이 :{}'.format(max(len(sample) for sample in X_train)))\n",
    "print('뉴스 기사의 평균 길이 :{}'.format(sum(map(len, X_train))/len(X_train)))\n",
    "\n",
    "plt.hist([len(sample) for sample in X_train], bins=50)\n",
    "plt.xlabel('length of samples')\n",
    "plt.ylabel('number of samples')\n",
    "plt.show()"
   ]
  },
  {
   "cell_type": "code",
   "execution_count": 12,
   "id": "55bc8bdb",
   "metadata": {},
   "outputs": [
    {
     "name": "stdout",
     "output_type": "stream",
     "text": [
      "각 레이블에 대한 빈도수:\n",
      "[[   0    1    2    3    4    5    6    7    8    9   10   11   12   13\n",
      "    14   15   16   17   18   19   20   21   22   23   24   25   26   27\n",
      "    28   29   30   31   32   33   34   35   36   37   38   39   40   41\n",
      "    42   43   44   45]\n",
      " [  55  432   74 3159 1949   17   48   16  139  101  124  390   49  172\n",
      "    26   20  444   39   66  549  269  100   15   41   62   92   24   15\n",
      "    48   19   45   39   32   11   50   10   49   19   19   24   36   30\n",
      "    13   21   12   18]]\n"
     ]
    }
   ],
   "source": [
    "unique_elements, counts_elements = np.unique(y_train, return_counts=True)\n",
    "print(\"각 레이블에 대한 빈도수:\")\n",
    "print(np.asarray((unique_elements, counts_elements)))"
   ]
  },
  {
   "cell_type": "markdown",
   "id": "4fa14c65",
   "metadata": {},
   "source": [
    "---"
   ]
  },
  {
   "cell_type": "markdown",
   "id": "894ce50b",
   "metadata": {},
   "source": [
    "# 2. 분류하기"
   ]
  },
  {
   "cell_type": "code",
   "execution_count": 14,
   "id": "b7ac6e9b",
   "metadata": {},
   "outputs": [],
   "source": [
    "from tensorflow.keras.models import Sequential\n",
    "from tensorflow.keras.layers import Dense, LSTM, Embedding\n",
    "from tensorflow.keras.preprocessing.sequence import pad_sequences\n",
    "from tensorflow.keras.utils import to_categorical\n",
    "from tensorflow.keras.callbacks import EarlyStopping, ModelCheckpoint\n",
    "from tensorflow.keras.models import load_model\n",
    "\n",
    "vocab_size = 1000\n",
    "max_len = 100\n",
    "\n",
    "(X_train, y_train), (X_test, y_test) = reuters.load_data(num_words=vocab_size, test_split=0.2)\n",
    "\n",
    "X_train = pad_sequences(X_train, maxlen=max_len)\n",
    "X_test = pad_sequences(X_test, maxlen=max_len)\n",
    "\n",
    "y_train = to_categorical(y_train)\n",
    "y_test = to_categorical(y_test)"
   ]
  },
  {
   "cell_type": "code",
   "execution_count": 15,
   "id": "677f314f",
   "metadata": {},
   "outputs": [
    {
     "name": "stdout",
     "output_type": "stream",
     "text": [
      "Epoch 1/30\n",
      "71/71 [==============================] - ETA: 0s - loss: 2.6135 - acc: 0.3352\n",
      "Epoch 1: val_acc improved from -inf to 0.36198, saving model to best_model.h5\n",
      "71/71 [==============================] - 16s 189ms/step - loss: 2.6135 - acc: 0.3352 - val_loss: 2.3866 - val_acc: 0.3620\n",
      "Epoch 2/30\n",
      "71/71 [==============================] - ETA: 0s - loss: 2.1345 - acc: 0.4530\n",
      "Epoch 2: val_acc improved from 0.36198 to 0.46215, saving model to best_model.h5\n",
      "71/71 [==============================] - 23s 320ms/step - loss: 2.1345 - acc: 0.4530 - val_loss: 1.9992 - val_acc: 0.4622\n",
      "Epoch 3/30\n",
      "71/71 [==============================] - ETA: 0s - loss: 1.9277 - acc: 0.5017\n",
      "Epoch 3: val_acc improved from 0.46215 to 0.55343, saving model to best_model.h5\n",
      "71/71 [==============================] - 21s 291ms/step - loss: 1.9277 - acc: 0.5017 - val_loss: 1.8092 - val_acc: 0.5534\n",
      "Epoch 4/30\n",
      "71/71 [==============================] - ETA: 0s - loss: 1.7532 - acc: 0.5471\n",
      "Epoch 4: val_acc improved from 0.55343 to 0.56189, saving model to best_model.h5\n",
      "71/71 [==============================] - 20s 279ms/step - loss: 1.7532 - acc: 0.5471 - val_loss: 1.7253 - val_acc: 0.5619\n",
      "Epoch 5/30\n",
      "71/71 [==============================] - ETA: 0s - loss: 1.7004 - acc: 0.5592\n",
      "Epoch 5: val_acc improved from 0.56189 to 0.56278, saving model to best_model.h5\n",
      "71/71 [==============================] - 20s 281ms/step - loss: 1.7004 - acc: 0.5592 - val_loss: 1.7150 - val_acc: 0.5628\n",
      "Epoch 6/30\n",
      "71/71 [==============================] - ETA: 0s - loss: 1.6160 - acc: 0.5865\n",
      "Epoch 6: val_acc improved from 0.56278 to 0.58771, saving model to best_model.h5\n",
      "71/71 [==============================] - 20s 277ms/step - loss: 1.6160 - acc: 0.5865 - val_loss: 1.6185 - val_acc: 0.5877\n",
      "Epoch 7/30\n",
      "71/71 [==============================] - ETA: 0s - loss: 1.5268 - acc: 0.6103\n",
      "Epoch 7: val_acc improved from 0.58771 to 0.59840, saving model to best_model.h5\n",
      "71/71 [==============================] - 19s 276ms/step - loss: 1.5268 - acc: 0.6103 - val_loss: 1.5830 - val_acc: 0.5984\n",
      "Epoch 8/30\n",
      "71/71 [==============================] - ETA: 0s - loss: 1.4323 - acc: 0.6347\n",
      "Epoch 8: val_acc improved from 0.59840 to 0.63446, saving model to best_model.h5\n",
      "71/71 [==============================] - 20s 281ms/step - loss: 1.4323 - acc: 0.6347 - val_loss: 1.4735 - val_acc: 0.6345\n",
      "Epoch 9/30\n",
      "71/71 [==============================] - ETA: 0s - loss: 1.3382 - acc: 0.6581\n",
      "Epoch 9: val_acc improved from 0.63446 to 0.64604, saving model to best_model.h5\n",
      "71/71 [==============================] - 19s 276ms/step - loss: 1.3382 - acc: 0.6581 - val_loss: 1.4074 - val_acc: 0.6460\n",
      "Epoch 10/30\n",
      "71/71 [==============================] - ETA: 0s - loss: 1.2476 - acc: 0.6825\n",
      "Epoch 10: val_acc did not improve from 0.64604\n",
      "71/71 [==============================] - 20s 284ms/step - loss: 1.2476 - acc: 0.6825 - val_loss: 1.3723 - val_acc: 0.6443\n",
      "Epoch 11/30\n",
      "71/71 [==============================] - ETA: 0s - loss: 1.1802 - acc: 0.7011\n",
      "Epoch 11: val_acc improved from 0.64604 to 0.66607, saving model to best_model.h5\n",
      "71/71 [==============================] - 21s 300ms/step - loss: 1.1802 - acc: 0.7011 - val_loss: 1.3285 - val_acc: 0.6661\n",
      "Epoch 12/30\n",
      "71/71 [==============================] - ETA: 0s - loss: 1.1282 - acc: 0.7126\n",
      "Epoch 12: val_acc did not improve from 0.66607\n",
      "71/71 [==============================] - 20s 282ms/step - loss: 1.1282 - acc: 0.7126 - val_loss: 1.3309 - val_acc: 0.6607\n",
      "Epoch 13/30\n",
      "71/71 [==============================] - ETA: 0s - loss: 1.0778 - acc: 0.7199\n",
      "Epoch 13: val_acc improved from 0.66607 to 0.68210, saving model to best_model.h5\n",
      "71/71 [==============================] - 20s 275ms/step - loss: 1.0778 - acc: 0.7199 - val_loss: 1.2322 - val_acc: 0.6821\n",
      "Epoch 14/30\n",
      "71/71 [==============================] - ETA: 0s - loss: 1.0209 - acc: 0.7366\n",
      "Epoch 14: val_acc improved from 0.68210 to 0.68433, saving model to best_model.h5\n",
      "71/71 [==============================] - 20s 279ms/step - loss: 1.0209 - acc: 0.7366 - val_loss: 1.2254 - val_acc: 0.6843\n",
      "Epoch 15/30\n",
      "71/71 [==============================] - ETA: 0s - loss: 0.9770 - acc: 0.7489\n",
      "Epoch 15: val_acc did not improve from 0.68433\n",
      "71/71 [==============================] - 23s 322ms/step - loss: 0.9770 - acc: 0.7489 - val_loss: 1.2224 - val_acc: 0.6808\n",
      "Epoch 16/30\n",
      "71/71 [==============================] - ETA: 0s - loss: 0.9348 - acc: 0.7604\n",
      "Epoch 16: val_acc improved from 0.68433 to 0.69012, saving model to best_model.h5\n",
      "71/71 [==============================] - 20s 283ms/step - loss: 0.9348 - acc: 0.7604 - val_loss: 1.2209 - val_acc: 0.6901\n",
      "Epoch 17/30\n",
      "71/71 [==============================] - ETA: 0s - loss: 0.8900 - acc: 0.7719\n",
      "Epoch 17: val_acc improved from 0.69012 to 0.69724, saving model to best_model.h5\n",
      "71/71 [==============================] - 22s 309ms/step - loss: 0.8900 - acc: 0.7719 - val_loss: 1.2003 - val_acc: 0.6972\n",
      "Epoch 18/30\n",
      "71/71 [==============================] - ETA: 0s - loss: 0.8439 - acc: 0.7857\n",
      "Epoch 18: val_acc improved from 0.69724 to 0.70080, saving model to best_model.h5\n",
      "71/71 [==============================] - 21s 290ms/step - loss: 0.8439 - acc: 0.7857 - val_loss: 1.2101 - val_acc: 0.7008\n",
      "Epoch 19/30\n",
      "71/71 [==============================] - ETA: 0s - loss: 0.8153 - acc: 0.7938\n",
      "Epoch 19: val_acc improved from 0.70080 to 0.71104, saving model to best_model.h5\n",
      "71/71 [==============================] - 20s 276ms/step - loss: 0.8153 - acc: 0.7938 - val_loss: 1.1786 - val_acc: 0.7110\n",
      "Epoch 20/30\n",
      "71/71 [==============================] - ETA: 0s - loss: 0.7812 - acc: 0.8019\n",
      "Epoch 20: val_acc did not improve from 0.71104\n",
      "71/71 [==============================] - 20s 287ms/step - loss: 0.7812 - acc: 0.8019 - val_loss: 1.2092 - val_acc: 0.7004\n",
      "Epoch 21/30\n",
      "71/71 [==============================] - ETA: 0s - loss: 0.7432 - acc: 0.8135\n",
      "Epoch 21: val_acc did not improve from 0.71104\n",
      "71/71 [==============================] - 21s 295ms/step - loss: 0.7432 - acc: 0.8135 - val_loss: 1.1927 - val_acc: 0.7053\n",
      "Epoch 22/30\n",
      "71/71 [==============================] - ETA: 0s - loss: 0.7023 - acc: 0.8236\n",
      "Epoch 22: val_acc did not improve from 0.71104\n",
      "71/71 [==============================] - 21s 299ms/step - loss: 0.7023 - acc: 0.8236 - val_loss: 1.2309 - val_acc: 0.7106\n",
      "Epoch 23/30\n",
      "71/71 [==============================] - ETA: 0s - loss: 0.6769 - acc: 0.8257\n",
      "Epoch 23: val_acc did not improve from 0.71104\n",
      "71/71 [==============================] - 21s 299ms/step - loss: 0.6769 - acc: 0.8257 - val_loss: 1.2394 - val_acc: 0.7004\n",
      "Epoch 23: early stopping\n"
     ]
    }
   ],
   "source": [
    "embedding_dim = 128\n",
    "hidden_units = 128\n",
    "num_classes = 46\n",
    "\n",
    "model = Sequential()\n",
    "model.add(Embedding(vocab_size, embedding_dim))\n",
    "model.add(LSTM(hidden_units))\n",
    "model.add(Dense(num_classes, activation='softmax'))\n",
    "\n",
    "es = EarlyStopping(monitor='val_loss', mode='min', verbose=1, patience=4)\n",
    "mc = ModelCheckpoint('best_model.h5', monitor='val_acc', mode='max', verbose=1, save_best_only=True)\n",
    "\n",
    "model.compile(loss='categorical_crossentropy', optimizer='adam', metrics=['acc'])\n",
    "history = model.fit(X_train, y_train, batch_size=128, epochs=30, callbacks=[es, mc], validation_data=(X_test, y_test))"
   ]
  },
  {
   "cell_type": "code",
   "execution_count": 16,
   "id": "d4ab163f",
   "metadata": {},
   "outputs": [
    {
     "name": "stdout",
     "output_type": "stream",
     "text": [
      "71/71 [==============================] - 2s 23ms/step - loss: 1.1786 - acc: 0.7110\n",
      "\n",
      " 테스트 정확도: 0.7110\n"
     ]
    }
   ],
   "source": [
    "loaded_model = load_model('best_model.h5')\n",
    "print(\"\\n 테스트 정확도: %.4f\" % (loaded_model.evaluate(X_test, y_test)[1]))"
   ]
  },
  {
   "cell_type": "code",
   "execution_count": 17,
   "id": "07297b40",
   "metadata": {},
   "outputs": [
    {
     "data": {
      "image/png": "[encoded data removed]",
      "text/plain": [
       "<Figure size 640x480 with 1 Axes>"
      ]
     },
     "metadata": {},
     "output_type": "display_data"
    }
   ],
   "source": [
    "epochs = range(1, len(history.history['acc']) + 1)\n",
    "plt.plot(epochs, history.history['loss'])\n",
    "plt.plot(epochs, history.history['val_loss'])\n",
    "plt.title('model loss')\n",
    "plt.ylabel('loss')\n",
    "plt.xlabel('epoch')\n",
    "plt.legend(['train', 'test'], loc='upper left')\n",
    "plt.show()"
   ]
  }
 ],
 "metadata": {
  "kernelspec": {
   "display_name": "Python 3 (ipykernel)",
   "language": "python",
   "name": "python3"
  },
  "language_info": {
   "codemirror_mode": {
    "name": "ipython",
    "version": 3
   },
   "file_extension": ".py",
   "mimetype": "text/x-python",
   "name": "python",
   "nbconvert_exporter": "python",
   "pygments_lexer": "ipython3",
   "version": "3.10.9"
  }
 },
 "nbformat": 4,
 "nbformat_minor": 5
}
